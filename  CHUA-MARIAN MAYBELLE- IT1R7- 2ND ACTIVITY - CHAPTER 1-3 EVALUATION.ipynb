{
 "cells": [
  {
   "cell_type": "code",
   "execution_count": 5,
   "id": "historic-experience",
   "metadata": {},
   "outputs": [
    {
     "name": "stdout",
     "output_type": "stream",
     "text": [
      "In chapter 1 I have learned a lot about what Data Structures and algorithms all about . Data Stuuctures is a way to store and\n",
      "\n",
      "organize the data in order to facilitate access and modifications. And the Algorithms is a step-by-steps procedure, which is \n",
      "\n",
      "defines a set of instructions to be executed in a certain order to get the desire output.\n",
      "\n",
      "In Data Structure there is an important foundation whichis interface and implemantation, furtheremore it should be implemented\n",
      "\n",
      "correcly, and the time complexity it should always be done small as possible, and lastly the Space Complexity, it should be as \n",
      "\n",
      "little as possible. \n"
     ]
    }
   ],
   "source": [
    "print (\"In chapter 1 I have learned a lot about what Data Structures and algorithms all about . Data Stuuctures is a way to store and\\n\")\n",
    "print (\"organize the data in order to facilitate access and modifications. And the Algorithms is a step-by-steps procedure, which is \\n\")\n",
    "print (\"defines a set of instructions to be executed in a certain order to get the desire output.\\n\")\n",
    "print (\"In Data Structure there is an important foundation whichis interface and implemantation, furtheremore it should be implemented\\n\")\n",
    "print (\"correcly, and the time complexity it should always be done small as possible, and lastly the Space Complexity, it should be as \\n\")\n",
    "print (\"little as possible. \")"
   ]
  },
  {
   "cell_type": "code",
   "execution_count": 1,
   "id": "forty-plasma",
   "metadata": {},
   "outputs": [
    {
     "name": "stdout",
     "output_type": "stream",
     "text": [
      "Discuss your learnings on Chapter 1  time-frame 35:00 - end. Minimum of 200 characters\n",
      "maybelle\n",
      "maybelle\n"
     ]
    }
   ],
   "source": [
    "print (\"Discuss your learnings on Chapter 1  time-frame 35:00 - end. Minimum of 200 characters\")\n",
    "print ('maybelle')\n",
    "print ('maybelle')"
   ]
  },
  {
   "cell_type": "code",
   "execution_count": 2,
   "id": "suspected-proportion",
   "metadata": {},
   "outputs": [
    {
     "name": "stdout",
     "output_type": "stream",
     "text": [
      "Discuss your learnings on Chapter 2  time-frame 5:00 - 9:00. Minimum of 200 characters\n",
      "maybelle\n",
      "maybelle\n"
     ]
    }
   ],
   "source": [
    "print (\"Discuss your learnings on Chapter 2  time-frame 5:00 - 9:00. Minimum of 200 characters\")\n",
    "print ('maybelle')\n",
    "print ('maybelle')"
   ]
  },
  {
   "cell_type": "code",
   "execution_count": 12,
   "id": "sacred-collins",
   "metadata": {},
   "outputs": [
    {
     "name": "stdout",
     "output_type": "stream",
     "text": [
      "1232\n",
      "100\n",
      "4344\n",
      "4535\n",
      "234\n"
     ]
    }
   ],
   "source": [
    "from array import*\n",
    "maybelle = array('I',[1232,4344,4535,345,234])\n",
    "maybelle.insert(2,4344)\n",
    "maybelle.remove(345)\n",
    "maybelle[1] = 100\n",
    "for x in maybelle:\n",
    "    print(x)"
   ]
  },
  {
   "cell_type": "code",
   "execution_count": null,
   "id": "fifth-condition",
   "metadata": {},
   "outputs": [],
   "source": []
  }
 ],
 "metadata": {
  "kernelspec": {
   "display_name": "Python 3",
   "language": "python",
   "name": "python3"
  },
  "language_info": {
   "codemirror_mode": {
    "name": "ipython",
    "version": 3
   },
   "file_extension": ".py",
   "mimetype": "text/x-python",
   "name": "python",
   "nbconvert_exporter": "python",
   "pygments_lexer": "ipython3",
   "version": "3.9.2"
  }
 },
 "nbformat": 4,
 "nbformat_minor": 5
}
