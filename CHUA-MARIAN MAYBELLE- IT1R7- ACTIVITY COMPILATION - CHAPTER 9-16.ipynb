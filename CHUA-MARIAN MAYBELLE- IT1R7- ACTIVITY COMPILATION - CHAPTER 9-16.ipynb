{
 "cells": [
  {
   "cell_type": "code",
   "execution_count": 41,
   "id": "willing-tracy",
   "metadata": {},
   "outputs": [
    {
     "name": "stdout",
     "output_type": "stream",
     "text": [
      "--CHAPTER 9 GRAPH-- \n",
      "\n",
      "In chapter 9 I learned that a graph is a pictorial representation of a set objects where some pairs of objects are connected by \n",
      "\n",
      "links.The interconnected objects are represented by points terned as vertices, and the links that connect, the vertices are\n",
      "\n",
      "called edges. Also I learened that one of the utility of graph data structure. One of the example is Facebook's friend such as,\n",
      "\n",
      "the avatar or entities are connected as friends by edges. In terms in directed graph and undirected graph is a nodes are\n",
      "\n",
      "by edges that are all bidirectional, and the directed Graph, nodes are connected by directed in a edges. it is only go in one\n",
      "\n",
      "direction. Flight routes can also be given example of a graph. It is called a directed graph, unlike an undirected graph which \n",
      "\n",
      "has no direction, the directed graph has a direction. Theres a direction for a specific location in the connection of routes,\n",
      "\n",
      "hence a directed graph. \n",
      " \n"
     ]
    }
   ],
   "source": [
    "print (\"--CHAPTER 9 GRAPH-- \\n\")\n",
    "print (\"In chapter 9 I learned that a graph is a pictorial representation of a set objects where some pairs of objects are connected by \\n\")\n",
    "print (\"links.The interconnected objects are represented by points terned as vertices, and the links that connect, the vertices are\\n\")\n",
    "print (\"called edges. Also I learened that one of the utility of graph data structure. One of the example is Facebook's friend such as,\\n\")\n",
    "print (\"the avatar or entities are connected as friends by edges. In terms in directed graph and undirected graph is a nodes are\\n\") \n",
    "print (\"by edges that are all bidirectional, and the directed Graph, nodes are connected by directed in a edges. it is only go in one\\n\")\n",
    "print (\"direction. Flight routes can also be given example of a graph. It is called a directed graph, unlike an undirected graph which \\n\")\n",
    "print(\"has no direction, the directed graph has a direction. Theres a direction for a specific location in the connection of routes,\\n\")\n",
    "print(\"hence a directed graph. \\n \")"
   ]
  },
  {
   "cell_type": "code",
   "execution_count": 48,
   "id": "collective-settle",
   "metadata": {},
   "outputs": [
    {
     "name": "stdout",
     "output_type": "stream",
     "text": [
      "---In Chapter 10---\n",
      "The binary search algorithm, I learned that Binary search is a fast search algorithm with run-time complexity of O (log n). \n",
      "\n",
      "and It can find the element position using the Recursive and Iterative Method. The divide and conquer approach technique is\n",
      "\n",
      "followed by the recursive method. I learned that In this method, a function is called itself again and again until it found\n",
      "\n",
      "an element in the list.Also a set of statements is repeated multiple times to find an element's index position in the iterative\n",
      "\n",
      "method and the while loop is used to accomplish. Furthermore Binary search is more effective than the linear search because it\n",
      "\n",
      "don't need to search each list index. The list must be sorted to achieve the binary search algorithm. Then also I learned that\n",
      "\n",
      "If the number are searching equal to the mid. Then return mid otherwise move to the further comparison then the number to be\n",
      " \n",
      "search is greater than the middle number, it compare the n with the middle element of the elements on the right side of mid\n",
      "\n",
      "and set low to low = mid then + 1. Otherwise, compare the n with the middle element of the elements on theleft side of mid and\n",
      "\n",
      "set high to high = mid - 1\n"
     ]
    }
   ],
   "source": [
    "print (\"---In Chapter 10---\")\n",
    "print (\"The binary search algorithm, I learned that Binary search is a fast search algorithm with run-time complexity of O (log n). \\n\")\n",
    "print (\"and It can find the element position using the Recursive and Iterative Method. The divide and conquer approach technique is\\n\")\n",
    "print (\"followed by the recursive method. I learned that In this method, a function is called itself again and again until it found\\n\")\n",
    "print (\"an element in the list.Also a set of statements is repeated multiple times to find an element's index position in the iterative\\n\")\n",
    "print (\"method and the while loop is used to accomplish. Furthermore Binary search is more effective than the linear search because it\\n\")\n",
    "print (\"don't need to search each list index. The list must be sorted to achieve the binary search algorithm. Then also I learned that\\n\")\n",
    "print (\"If the number are searching equal to the mid. Then return mid otherwise move to the further comparison then the number to be\\n \")\n",
    "print (\"search is greater than the middle number, it compare the n with the middle element of the elements on the right side of mid\\n\")\n",
    "print (\"and set low to low = mid then + 1. Otherwise, compare the n with the middle element of the elements on theleft side of mid and\\n\")\n",
    "print (\"set high to high = mid - 1\")"
   ]
  },
  {
   "cell_type": "code",
   "execution_count": 51,
   "id": "defensive-national",
   "metadata": {},
   "outputs": [
    {
     "name": "stdout",
     "output_type": "stream",
     "text": [
      "---CHAPTER 11---\n",
      "The lesson of the chapter 11 is about the topic of the Bubble Sort. The chapter discusses how important sorting is and how\n",
      "\n",
      "sorting is needed. In developing big projects, such as building or creating a program for a wireless store \n",
      "\n",
      "where in the computer there may be so many transactions. The many transactions must be sorted out. Sorting is a \n",
      "\n",
      "very common use case when people are doing some software development, bubble sort is one of the many sorting \n",
      "\n",
      "techniques. Which give you a list of numbers in wanting to sort the list. You will begin by doing the comparing of \n",
      "\n",
      "of first two numbers and will compare them first until it goes throght comparing all numbers in who is the greatest \n",
      "\n",
      "among all numbers inside the list and swaps them according to the requirement of the program to run the results. \n",
      "\n",
      "The process of the program repeats itself. Why a bubble sort is called a Bubble Sort is because a bubble sort \n",
      "\n",
      "because such as a bubble pops, it comes up from the bottom to up, similarly to the programs which goes up to the \n",
      "\n",
      "top of the list. Like a bubble being able to pop up from the bottom of the depth of the water, the list, to the \n",
      "\n",
      "surface of the water, like the top of the list. That's how the program is being made. It went all the way up\n"
     ]
    }
   ],
   "source": [
    "print(\"---CHAPTER 11---\")\n",
    "print(\"The lesson of the chapter 11 is about the topic of the Bubble Sort. The chapter discusses how important sorting is and how\\n\")\n",
    "print(\"sorting is needed. In developing big projects, such as building or creating a program for a wireless store \\n\")\n",
    "print(\"where in the computer there may be so many transactions. The many transactions must be sorted out. Sorting is a \\n\")\n",
    "print(\"very common use case when people are doing some software development, bubble sort is one of the many sorting \\n\")\n",
    "print(\"techniques. Which give you a list of numbers in wanting to sort the list. You will begin by doing the comparing of \\n\")\n",
    "print(\"of first two numbers and will compare them first until it goes throght comparing all numbers in who is the greatest \\n\")\n",
    "print(\"among all numbers inside the list and swaps them according to the requirement of the program to run the results. \\n\")\n",
    "print(\"The process of the program repeats itself. Why a bubble sort is called a Bubble Sort is because a bubble sort \\n\")\n",
    "print(\"because such as a bubble pops, it comes up from the bottom to up, similarly to the programs which goes up to the \\n\")\n",
    "print(\"top of the list. Like a bubble being able to pop up from the bottom of the depth of the water, the list, to the \\n\")\n",
    "print(\"surface of the water, like the top of the list. That's how the program is being made. It went all the way up\")"
   ]
  },
  {
   "cell_type": "code",
   "execution_count": 52,
   "id": "broad-voluntary",
   "metadata": {},
   "outputs": [
    {
     "name": "stdout",
     "output_type": "stream",
     "text": [
      "all the learnings I have made from chapter 12: \n",
      "The thihngs that I had learned in chapter 12 of data Structures and algorithms is about Sorting, specific to be Quick \n",
      "\n",
      "sort which is about sorting of in algorithm. There is also a techniques called a pivot in the sorting of the \n",
      "\n",
      "program which pivot is being put into position. The elements are being sorted out in the program of the lesson \n",
      "\n",
      "using the pivoting effect. It uses an element in pivoting and on the left side of the element, it sorts out the list \n",
      "\n",
      "so that all the numbers on the left of that element should be smaller in number than the value of that element. \n",
      "\n",
      "The number is used as base for the program in the sorting of the list in which numbers behind and in front, left \n",
      "\n",
      "or right is affected by the sorting and being the background of the element and the other numbers being affected \n",
      "\n",
      "by the sorting process of the program in data structures and algorithm in the lesson of chapter 12. The list, which \n",
      "\n",
      "is an array which is being used in a two partition technique thing. The left partition and the right partition of \n",
      "\n",
      "the string of the array list which is being ised at the quick sorting thing of the program structure of the lesson\n"
     ]
    }
   ],
   "source": [
    "print(\"all the learnings I have made from chapter 12: \")\n",
    "print(\"The thihngs that I had learned in chapter 12 of data Structures and algorithms is about Sorting, specific to be Quick \\n\")\n",
    "print(\"sort which is about sorting of in algorithm. There is also a techniques called a pivot in the sorting of the \\n\")\n",
    "print(\"program which pivot is being put into position. The elements are being sorted out in the program of the lesson \\n\")\n",
    "print(\"using the pivoting effect. It uses an element in pivoting and on the left side of the element, it sorts out the list \\n\")\n",
    "print(\"so that all the numbers on the left of that element should be smaller in number than the value of that element. \\n\")\n",
    "print(\"The number is used as base for the program in the sorting of the list in which numbers behind and in front, left \\n\")\n",
    "print(\"or right is affected by the sorting and being the background of the element and the other numbers being affected \\n\")\n",
    "print(\"by the sorting process of the program in data structures and algorithm in the lesson of chapter 12. The list, which \\n\")\n",
    "print(\"is an array which is being used in a two partition technique thing. The left partition and the right partition of \\n\")\n",
    "print(\"the string of the array list which is being ised at the quick sorting thing of the program structure of the lesson\")"
   ]
  },
  {
   "cell_type": "code",
   "execution_count": 53,
   "id": "assigned-version",
   "metadata": {},
   "outputs": [
    {
     "name": "stdout",
     "output_type": "stream",
     "text": [
      "The all of my learnings of the lesson and the reminders in chapter 13\n",
      "the lesson of the chapter thirteen talks about the importance and ability of the program of the insertion sortings \n",
      "\n",
      "whcih is another process or technique of sorting from the previous chapters or the previous lessons which also talks \n",
      "\n",
      "about the different topics on how to do and sort in a an array listing that is used in the programs being discussed \n",
      "\n",
      "in the lesson of the chapter. The lesson of the chapter covers some sorting programs theories inside and also \n",
      "\n",
      "includes sorting programs codes that are needed in creating a sorting program of some sort inside the lesson of the \n",
      "\n",
      "chapter 13 lesson. The lesson of chapter 13 also includes the lesson of making excercise using of the codes given \n",
      "\n",
      "by the lesson earlier when you delve in deeper of the reminders of learning the latest chapter. The video of the \n",
      "\n",
      "lesson starts with the video guy vlogger doing and explaining some kind of listing sort program sequence process \n",
      "\n",
      "called am unsorted sort list of numbers used in the lesson. It is explained that when you solve or sort an example \n",
      "\n",
      "of an array is to make another example of an array of the following program inside the lesson of the chapter 13. \n",
      "\n"
     ]
    }
   ],
   "source": [
    "print(\"The all of my learnings of the lesson and the reminders in chapter 13\")\n",
    "print(\"the lesson of the chapter thirteen talks about the importance and ability of the program of the insertion sortings \\n\")\n",
    "print(\"whcih is another process or technique of sorting from the previous chapters or the previous lessons which also talks \\n\")\n",
    "print(\"about the different topics on how to do and sort in a an array listing that is used in the programs being discussed \\n\")\n",
    "print(\"in the lesson of the chapter. The lesson of the chapter covers some sorting programs theories inside and also \\n\")\n",
    "print(\"includes sorting programs codes that are needed in creating a sorting program of some sort inside the lesson of the \\n\")\n",
    "print(\"chapter 13 lesson. The lesson of chapter 13 also includes the lesson of making excercise using of the codes given \\n\")\n",
    "print(\"by the lesson earlier when you delve in deeper of the reminders of learning the latest chapter. The video of the \\n\")\n",
    "print(\"lesson starts with the video guy vlogger doing and explaining some kind of listing sort program sequence process \\n\")\n",
    "print(\"called am unsorted sort list of numbers used in the lesson. It is explained that when you solve or sort an example \\n\")\n",
    "print(\"of an array is to make another example of an array of the following program inside the lesson of the chapter 13. \\n\")"
   ]
  },
  {
   "cell_type": "code",
   "execution_count": 54,
   "id": "virgin-pantyhose",
   "metadata": {},
   "outputs": [
    {
     "name": "stdout",
     "output_type": "stream",
     "text": [
      "Chapter 14: all the learnings I have learned and the data that i have gathered from the latest fourteenth chapter\n",
      "The lesson of chapter 14 discusses a very popular must very short algorithm in the video of the lesson of the data \n",
      "\n",
      "Usual things there are theories discussed along in the lessons in the chapter being involved in the process of the \n",
      "\n",
      "video and implements more shorts in python. There is agiven example in learning in the lesson of the chapter where \n",
      "\n",
      "it shows an example of two arrays together as an example for the program and the theories involving around it as the \n",
      "\n",
      "lesson progresses to show some of the important parts of the exercise in creating a program related to the current \n",
      "\n",
      "chapter. It tells of merging of the arrays being used in the program of the lesson of the chapter into one single \n",
      "\n",
      "sorted array. The whole goal of a sorting algorithm in the lesson is to take the unsorted array and then create a \n",
      "\n",
      "sorted array out of that unsorted array inside of the program. it starts with the very first element of the list \n",
      "\n",
      "in each of the arrays and then you compare the both of them. the smallest element comparable will be put in to the \n",
      "\n",
      "sorted version of the array but the pointers should still be kept in the program as is, but should be moved in the next \n",
      "\n"
     ]
    }
   ],
   "source": [
    "print(\"Chapter 14: all the learnings I have learned and the data that i have gathered from the latest fourteenth chapter\")\n",
    "print(\"The lesson of chapter 14 discusses a very popular must very short algorithm in the video of the lesson of the data \\n\")\n",
    "print(\"Usual things there are theories discussed along in the lessons in the chapter being involved in the process of the \\n\")\n",
    "print(\"video and implements more shorts in python. There is agiven example in learning in the lesson of the chapter where \\n\")\n",
    "print(\"it shows an example of two arrays together as an example for the program and the theories involving around it as the \\n\")\n",
    "print(\"lesson progresses to show some of the important parts of the exercise in creating a program related to the current \\n\")\n",
    "print(\"chapter. It tells of merging of the arrays being used in the program of the lesson of the chapter into one single \\n\")\n",
    "print(\"sorted array. The whole goal of a sorting algorithm in the lesson is to take the unsorted array and then create a \\n\")\n",
    "print(\"sorted array out of that unsorted array inside of the program. it starts with the very first element of the list \\n\")\n",
    "print(\"in each of the arrays and then you compare the both of them. the smallest element comparable will be put in to the \\n\")\n",
    "print(\"sorted version of the array but the pointers should still be kept in the program as is, but should be moved in the next \\n\")"
   ]
  },
  {
   "cell_type": "code",
   "execution_count": 55,
   "id": "changed-modem",
   "metadata": {},
   "outputs": [
    {
     "name": "stdout",
     "output_type": "stream",
     "text": [
      "All the learnings that I have learned in the lesson of the video shown about in the latest of the chapter of the 15 \n",
      "\n",
      "the chapter is all about going over one more important sorting thing and cell sorts that is included in coding in \n",
      "\n",
      "python coding program. It is called the insertion sort in the python programming code language thing where the elements \n",
      "\n",
      "are graded out for the program. there are also an unsorted arrays and other arrays involved in the shell short array \n",
      "\n",
      "sortings. The video says about a goal of the array sort to start on an arrow with the certain part of following \n",
      "\n",
      "where it is pointed out and you have to go element by element all over the programs. There are unsorted arrays \n",
      "\n",
      "on either sides of the arrays within the program in the video of the lesson of chapter where you look at the items \n",
      "\n",
      "but will not be able to change your positions because some of the numbers in the array program are already sorted \n",
      "\n",
      "out and then go to another thing r another element in the list array and you will also want to pit it, the number, \n",
      "\n",
      "to another list array in anything having a blue background, according to the video by the video guy programmer vlog \n",
      "\n",
      "that is considered also as a sorted array still according based to what the the programmer in the video is saying \n",
      "\n"
     ]
    }
   ],
   "source": [
    "print(\"All the learnings that I have learned in the lesson of the video shown about in the latest of the chapter of the 15 \\n\")\n",
    "print(\"the chapter is all about going over one more important sorting thing and cell sorts that is included in coding in \\n\")\n",
    "print(\"python coding program. It is called the insertion sort in the python programming code language thing where the elements \\n\")\n",
    "print(\"are graded out for the program. there are also an unsorted arrays and other arrays involved in the shell short array \\n\")\n",
    "print(\"sortings. The video says about a goal of the array sort to start on an arrow with the certain part of following \\n\")\n",
    "print(\"where it is pointed out and you have to go element by element all over the programs. There are unsorted arrays \\n\")\n",
    "print(\"on either sides of the arrays within the program in the video of the lesson of chapter where you look at the items \\n\")\n",
    "print(\"but will not be able to change your positions because some of the numbers in the array program are already sorted \\n\")\n",
    "print(\"out and then go to another thing r another element in the list array and you will also want to pit it, the number, \\n\")\n",
    "print(\"to another list array in anything having a blue background, according to the video by the video guy programmer vlog \\n\")\n",
    "print(\"that is considered also as a sorted array still according based to what the the programmer in the video is saying \\n\")"
   ]
  },
  {
   "cell_type": "code",
   "execution_count": 56,
   "id": "expanded-aviation",
   "metadata": {},
   "outputs": [
    {
     "name": "stdout",
     "output_type": "stream",
     "text": [
      "Chapter 16: And all the things that I have learned from the video about the lesson of the said chapter along  with it \n",
      "\n",
      "The chapter 16 and the things that I have learned is that the lesson is called a Selection Sort Method in sort \n",
      "\n",
      "The video tells us that we will be using the slection short in todays learning. It starts with just having a \n",
      "\n",
      "list of numbers in the program and what you do is trying to find a candidate in the program. It is for the first \n",
      "\n",
      "position in the program and that number must and should be the very minimum candidate in the list and it talks \n",
      "\n",
      "about swapping the a certain number into swapping that into the first element. After that, the first element of \n",
      "\n",
      "the list is sorted out according to the programming guy in the video. So now we move on to another of the element \n",
      "\n",
      "that is mentioned in the video of the lesson. Moving to the second element a candidate for a second position \n",
      "\n",
      "and that element is as explained in the video is the second minimum element or rather is is the minimum element \n",
      "\n",
      "in the unsorted array onwards which is unsorted on its left hand side of the array which is known as the sorted \n",
      "\n",
      "array. So you swap a certain element with the minimum element and then move on to the next and repeating the process \n",
      "\n"
     ]
    }
   ],
   "source": [
    "print(\"Chapter 16: And all the things that I have learned from the video about the lesson of the said chapter along  with it \\n\")\n",
    "print(\"The chapter 16 and the things that I have learned is that the lesson is called a Selection Sort Method in sort \\n\")\n",
    "print(\"The video tells us that we will be using the slection short in todays learning. It starts with just having a \\n\")\n",
    "print(\"list of numbers in the program and what you do is trying to find a candidate in the program. It is for the first \\n\")\n",
    "print(\"position in the program and that number must and should be the very minimum candidate in the list and it talks \\n\")\n",
    "print(\"about swapping the a certain number into swapping that into the first element. After that, the first element of \\n\")\n",
    "print(\"the list is sorted out according to the programming guy in the video. So now we move on to another of the element \\n\")\n",
    "print(\"that is mentioned in the video of the lesson. Moving to the second element a candidate for a second position \\n\")\n",
    "print(\"and that element is as explained in the video is the second minimum element or rather is is the minimum element \\n\")\n",
    "print(\"in the unsorted array onwards which is unsorted on its left hand side of the array which is known as the sorted \\n\")\n",
    "print(\"array. So you swap a certain element with the minimum element and then move on to the next and repeating the process \\n\")"
   ]
  },
  {
   "cell_type": "code",
   "execution_count": 57,
   "id": "impressed-correction",
   "metadata": {},
   "outputs": [
    {
     "name": "stdout",
     "output_type": "stream",
     "text": [
      "17\n",
      "The video of the lesson talks about a very important concept of the computer science called recursion thing in it. \n",
      "\n",
      "It start with the veideo of the lesson showing an example of a couple of people outside of the pizza place that \n",
      "\n",
      "is waiting for the order of pizzas. Now the owner of that store, pizza store realizes that his customers the \n",
      "\n",
      "people are being getting bored so he gives them compensation just for them to not get bored. Garlic bread is what \n",
      "\n",
      "the owner is compensating the customers, and gives the first one garlic bread and the next he adds one and so on \n",
      "\n",
      "incrementing the numbers by 1 on each of the following customers up to the back of the line. he tells them to do \n",
      "\n",
      "something to not get bored in wating in line for their pizza delivery. Now, every person on the line must count \n",
      "\n",
      "the total number of breads from the line given to them. This approach of solving a problem is called a recursion. \n",
      "\n",
      "I t is a very important concept in the lesson of the chapterin data structures and algorithms. You are basically \n",
      "\n",
      "doing many steps in this approach of program solutio in this lesson which gives us three steps in solving it all \n",
      "\n"
     ]
    }
   ],
   "source": [
    "print(\"17\")\n",
    "print(\"The video of the lesson talks about a very important concept of the computer science called recursion thing in it. \\n\")\n",
    "print(\"It start with the veideo of the lesson showing an example of a couple of people outside of the pizza place that \\n\")\n",
    "print(\"is waiting for the order of pizzas. Now the owner of that store, pizza store realizes that his customers the \\n\")\n",
    "print(\"people are being getting bored so he gives them compensation just for them to not get bored. Garlic bread is what \\n\")\n",
    "print(\"the owner is compensating the customers, and gives the first one garlic bread and the next he adds one and so on \\n\")\n",
    "print(\"incrementing the numbers by 1 on each of the following customers up to the back of the line. he tells them to do \\n\")\n",
    "print(\"something to not get bored in wating in line for their pizza delivery. Now, every person on the line must count \\n\")\n",
    "print(\"the total number of breads from the line given to them. This approach of solving a problem is called a recursion. \\n\")\n",
    "print(\"I t is a very important concept in the lesson of the chapterin data structures and algorithms. You are basically \\n\")\n",
    "print(\"doing many steps in this approach of program solutio in this lesson which gives us three steps in solving it all \\n\")"
   ]
  },
  {
   "cell_type": "code",
   "execution_count": 58,
   "id": "timely-infrastructure",
   "metadata": {},
   "outputs": [
    {
     "name": "stdout",
     "output_type": "stream",
     "text": [
      "TEST II\n"
     ]
    }
   ],
   "source": [
    "print (\"TEST II\")"
   ]
  },
  {
   "cell_type": "code",
   "execution_count": 65,
   "id": "employed-colorado",
   "metadata": {},
   "outputs": [
    {
     "name": "stdout",
     "output_type": "stream",
     "text": [
      "6/10\n",
      "6\n",
      "10\n"
     ]
    }
   ],
   "source": [
    "# test II 4\n",
    "class Fraction:\n",
    "\n",
    "    def __init__(self, top, bottom):\n",
    "\n",
    "        self.num = top        # the numerator is on top\n",
    "        self.den = bottom     # the denominator is on the bottom\n",
    "\n",
    "    def __str__(self):\n",
    "        return str(self.num) + \"/\" + str(self.den)\n",
    "\n",
    "    def getNum(self):\n",
    "        return self.num\n",
    "\n",
    "    def getDen(self):\n",
    "        return self.den\n",
    "\n",
    "myfraction = Fraction(6, 10)\n",
    "print(myfraction)\n",
    "\n",
    "print(myfraction.getNum())\n",
    "print(myfraction.getDen())\n"
   ]
  },
  {
   "cell_type": "code",
   "execution_count": 62,
   "id": "mediterranean-burlington",
   "metadata": {},
   "outputs": [
    {
     "name": "stdout",
     "output_type": "stream",
     "text": [
      "__radd__ is only called if the left object does not have an __add__ method, or that method does not know how to add the two\n",
      "objects (which it flags by returning NotImplemented).Both classes have an __add__ method, which do not return Not mplemented.\n",
      "Therefore the __radd__ method would never be called.\n"
     ]
    }
   ],
   "source": [
    "# test II number 2\n",
    "print(\"__radd__ is only called if the left object does not have an __add__ method, or that method does not know how to add the two\") \n",
    "print (\"objects (which it flags by returning NotImplemented).Both classes have an __add__ method, which do not return Not iplemented.\")\n",
    "print (\"Therefore the __radd__ method would never be called.\")"
   ]
  },
  {
   "cell_type": "code",
   "execution_count": 73,
   "id": "narrative-combining",
   "metadata": {},
   "outputs": [
    {
     "name": "stdout",
     "output_type": "stream",
     "text": [
      "__str__ \"computes the \"informal\" string representation of an object. This differs from __repr__ in that it does not have to be a valid Python expression: a more convenient or concise representation may be used instead.\" str - Creates a new string object from the given object.\n"
     ]
    }
   ],
   "source": [
    "# test II number 3\n",
    "print ('__str__ \"computes the \"informal\" string representation of an object. This differs from __repr__ in that it does not have to be a valid Python expression: a more convenient or concise representation may be used instead.\" str - Creates a new string object from the given object.')"
   ]
  },
  {
   "cell_type": "code",
   "execution_count": 72,
   "id": "taken-helping",
   "metadata": {},
   "outputs": [
    {
     "name": "stdout",
     "output_type": "stream",
     "text": [
      "Half Adder is a combinational logic circuit which is designed by connecting one EX-OR gate and one AND gate.\n",
      "\n",
      "The half adder circuit has two inputs: A and B, which add two input digits and generates a carry and a sum.\n",
      "\n",
      "The output obtained from the EX-OR gate is the sum of the two numbers while that obtained by AND gate is the carry.\n",
      "\n",
      "There will be no forwarding of carry addition because there is no logic gate to process that. Thus, this is called Half Adder\n",
      "circuit.\n"
     ]
    }
   ],
   "source": [
    "# test II number 4\n",
    "print (\"Half Adder is a combinational logic circuit which is designed by connecting one EX-OR gate and one AND gate.\\n\")\n",
    "print (\"The half adder circuit has two inputs: A and B, which add two input digits and generates a carry and a sum.\\n\")\n",
    "print (\"The output obtained from the EX-OR gate is the sum of the two numbers while that obtained by AND gate is the carry.\\n\")\n",
    "print (\"There will be no forwarding of carry addition because there is no logic gate to process that. Thus, this is called Half Adder\\ncircuit.\")"
   ]
  },
  {
   "cell_type": "code",
   "execution_count": null,
   "id": "expired-external",
   "metadata": {},
   "outputs": [],
   "source": []
  },
  {
   "cell_type": "code",
   "execution_count": 74,
   "id": "sacred-german",
   "metadata": {},
   "outputs": [
    {
     "name": "stdout",
     "output_type": "stream",
     "text": [
      "You got:\n",
      "2 of Spade\n",
      "5 of Club\n",
      "10 of Heart\n",
      "5 of Heart\n",
      "11 of Spade\n"
     ]
    }
   ],
   "source": [
    "# test II 5\n",
    "# Python program to shuffle a deck of card\n",
    "\n",
    "# importing modules\n",
    "import itertools, random\n",
    "\n",
    "# make a deck of cards\n",
    "deck = list(itertools.product(range(1,14),['Spade','Heart','Diamond','Club']))\n",
    "\n",
    "# shuffle the cards\n",
    "random.shuffle(deck)\n",
    "\n",
    "# draw five cards\n",
    "print(\"You got:\")\n",
    "for i in range(5):\n",
    "   print(deck[i][0], \"of\", deck[i][1])\n"
   ]
  },
  {
   "cell_type": "code",
   "execution_count": null,
   "id": "continental-karma",
   "metadata": {},
   "outputs": [],
   "source": [
    "# test II number 6\n",
    "def pin_code_str(pin_code):\n",
    "    last_index = len(pin_code) - 1\n",
    "    digits = [int for int in \"1234567899\"]\n",
    "    attempt = len(pin_code) * \"0\"\n",
    "\n",
    "    while True:\n",
    "        for digit in digits:\n",
    "            if attempt == pin_code:\n",
    "                return True\n",
    "\n",
    "            attempt = attempt[:last_index] + digit\n",
    "\n",
    "        nine_count = 0\n",
    "        index = last_index\n",
    "        while attempt[index] == \"9\":\n",
    "            nine_count += 1\n",
    "            index -= 1\n",
    "\n",
    "    attempt = attempt[:index] + chr(ord(attempt[index]) + 1) + (nine_count * digits[0])"
   ]
  },
  {
   "cell_type": "code",
   "execution_count": 92,
   "id": "differential-hacker",
   "metadata": {},
   "outputs": [
    {
     "name": "stdout",
     "output_type": "stream",
     "text": [
      "enqueue <value>\n",
      "dequeue\n",
      "quit\n"
     ]
    },
    {
     "name": "stdin",
     "output_type": "stream",
     "text": [
      "What would you like to do?  Sleep\n"
     ]
    },
    {
     "name": "stdout",
     "output_type": "stream",
     "text": [
      "enqueue <value>\n",
      "dequeue\n",
      "quit\n"
     ]
    },
    {
     "name": "stdin",
     "output_type": "stream",
     "text": [
      "What would you like to do?  quit\n"
     ]
    }
   ],
   "source": [
    "# test II 8\n",
    "class Node:\n",
    "    def __init__(self, data):\n",
    "       self.data = data\n",
    "       self.next = None\n",
    " \n",
    "class Queue:\n",
    "    def __init__(self):\n",
    "        self.head = None\n",
    "        self.last = None\n",
    " \n",
    "    def enqueue(self, data):\n",
    "        if self.last is None:\n",
    "            self.head = Node(data)\n",
    "            self.last = self.head\n",
    "        else:\n",
    "            self.last.next = Node(data)\n",
    "            self.last = self.last.next\n",
    " \n",
    "    def dequeue(self):\n",
    "        if self.head is None:\n",
    "            return None\n",
    "        else:\n",
    "            to_return = self.head.data\n",
    "            self.head = self.head.next\n",
    "            return to_return\n",
    " \n",
    "a_queue = Queue()\n",
    "while True:\n",
    "    print('enqueue <value>')\n",
    "    print('dequeue')\n",
    "    print('quit')\n",
    "    do = input('What would you like to do? ').split()\n",
    " \n",
    "    operation = do[0].strip().lower()\n",
    "    if operation == 'enqueue':\n",
    "        a_queue.enqueue(int(do[1]))\n",
    "    elif operation == 'dequeue':\n",
    "        dequeued = a_queue.dequeue()\n",
    "        if dequeued is None:\n",
    "            print('Queue is empty.')\n",
    "        else:\n",
    "            print('Dequeued element: ', int(dequeued))\n",
    "    elif operation == 'quit':\n",
    "        break"
   ]
  },
  {
   "cell_type": "code",
   "execution_count": 8,
   "id": "valued-strand",
   "metadata": {},
   "outputs": [
    {
     "name": "stdout",
     "output_type": "stream",
     "text": [
      "The factorial of 3 is 6\n"
     ]
    }
   ],
   "source": [
    "# test II number 9\n",
    "def factorial(x):\n",
    "    \"\"\"This is a recursive function\n",
    "    to find the factorial of an integer\"\"\"\n",
    "\n",
    "    if x == 1:\n",
    "        return 1\n",
    "    else:\n",
    "        return (x * factorial(x-1))\n",
    "\n",
    "\n",
    "num = 3\n",
    "print(\"The factorial of\", num, \"is\", factorial(num))"
   ]
  },
  {
   "cell_type": "code",
   "execution_count": 94,
   "id": "infinite-chair",
   "metadata": {},
   "outputs": [
    {
     "name": "stdout",
     "output_type": "stream",
     "text": [
      "False\n",
      "True\n"
     ]
    }
   ],
   "source": [
    "# test II number 10\n",
    "def sequentialSearch(alist, item):\n",
    "    pos = 0\n",
    "    found = False\n",
    "\n",
    "    while pos < len(alist) and not found:\n",
    "        if alist[pos] == item:\n",
    "            found = True\n",
    "        else:\n",
    "            pos = pos+1\n",
    "\n",
    "    return found\n",
    "\n",
    "testlist = [1, 2, 32, 8, 17, 19, 42, 13, 0]\n",
    "print(sequentialSearch(testlist, 3))\n",
    "print(sequentialSearch(testlist, 13))"
   ]
  },
  {
   "cell_type": "code",
   "execution_count": null,
   "id": "portable-router",
   "metadata": {},
   "outputs": [],
   "source": [
    "class StolenItem:\n",
    "    def __init__(self, theID, theValue, theWeight):\n",
    "        self.ID = theID\n",
    "        self.value = theValue\n",
    "        self.weight = theWeight\n",
    "\n",
    "def dpMaxProfit (itemList, knapWeight, maxProfits, weightsUsed):\n",
    "    maxProfit = 0\n",
    "\n",
    "    for knapWeights in range (knapWeight + 1):\n",
    "        print (\"KNAPWEIGHT:\", knapWeights - 1, \" \", maxProfits)\n",
    "        newItem = itemList[0]\n",
    "\n",
    "        for item in [x for x in itemList if x.weight <= knapWeights]:\n",
    "            if maxProfits[knapWeights - item.weight] + item.value > maxProfit: \n",
    "                maxProfit = maxProfits[knapWeights - item.weight] + item.value\n",
    "                newItem = item\n",
    "        maxProfits[knapWeights] = maxProfit\n",
    "        weightsUsed[knapWeights] = newItem.weight\n",
    "\n",
    "    return(maxProfits[knapWeight])\n",
    "\n",
    "def reMaxProfit(itemList, knapWeight):\n",
    "    if knapWeight < 1:\n",
    "        return 0 \n",
    "\n",
    "    l1 = [x for x in itemList if x.weight <= knapWeight]\t\n",
    "    profitList = [(item.value + reMaxProfit(itemList, knapWeight-item.weight)) for item in l1]\n",
    "\n",
    "    if len(profitList) > 0:\n",
    "        return max(profitList)\n",
    "    else:\n",
    "        return 0 \n",
    "        \n",
    "def weightsUsed (weightList, knapWeight):\n",
    "    weight = knapWeight\n",
    "    while weight > 0:\n",
    "        print(weightList[weight])\n",
    "        weight -= weightList[weight]\n",
    "recurse = True\n",
    "if recurse:\n",
    "    maxProfits = [0] * (knapWeight + 1)\n",
    "    weightsUsed = [0] * (knapWeight + 1)\n",
    "\n",
    "def main():\n",
    "    itemList = [StolenItem(1,3,2), StolenItem(2,4,3), StolenItem(3,8,4), StolenItem(4,8,5), StolenItem(5,10,9)]\n",
    "    knapWeight = 20\n",
    "    if recurse:\n",
    "        maxProfits = [0] * (knapWeight + 1)\n",
    "        weightsUsed = [0] * (knapWeight + 1)\n",
    "        print(dpMaxProfit(itemList, knapWeight, maxProfits, weightsUsed))\n",
    "        print (weightsUsed(weightsUsed, knapWeight))\n",
    "    else:\n",
    "        print (reMaxProfit(itemList, knapWeight))\n",
    "\n",
    "if __name__ == \"__main__\":\n",
    "    main()"
   ]
  }
 ],
 "metadata": {
  "kernelspec": {
   "display_name": "Python 3",
   "language": "python",
   "name": "python3"
  },
  "language_info": {
   "codemirror_mode": {
    "name": "ipython",
    "version": 3
   },
   "file_extension": ".py",
   "mimetype": "text/x-python",
   "name": "python",
   "nbconvert_exporter": "python",
   "pygments_lexer": "ipython3",
   "version": "3.9.2"
  }
 },
 "nbformat": 4,
 "nbformat_minor": 5
}
